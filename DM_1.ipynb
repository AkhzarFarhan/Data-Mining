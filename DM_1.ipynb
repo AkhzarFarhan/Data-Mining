{
  "nbformat": 4,
  "nbformat_minor": 0,
  "metadata": {
    "colab": {
      "name": "DM-1.ipynb",
      "version": "0.3.2",
      "provenance": [],
      "include_colab_link": true
    },
    "kernelspec": {
      "name": "python3",
      "display_name": "Python 3"
    }
  },
  "cells": [
    {
      "cell_type": "markdown",
      "metadata": {
        "id": "view-in-github",
        "colab_type": "text"
      },
      "source": [
        "<a href=\"https://colab.research.google.com/github/AkhzarFarhan/Data-Mining/blob/master/DM_1.ipynb\" target=\"_parent\"><img src=\"https://colab.research.google.com/assets/colab-badge.svg\" alt=\"Open In Colab\"/></a>"
      ]
    },
    {
      "metadata": {
        "id": "AL-OKYpDCyGb",
        "colab_type": "text"
      },
      "cell_type": "markdown",
      "source": [
        "**Importing pandas and numpy library**"
      ]
    },
    {
      "metadata": {
        "id": "eQ-kLeOJBuey",
        "colab_type": "code",
        "colab": {}
      },
      "cell_type": "code",
      "source": [
        "import pandas as pd\n",
        "import numpy as np"
      ],
      "execution_count": 0,
      "outputs": []
    },
    {
      "metadata": {
        "id": "-UqRsm_lCGbk",
        "colab_type": "code",
        "colab": {}
      },
      "cell_type": "code",
      "source": [
        "df = pd.DataFrame({\"BuffTail\": [10, 1, 37, 5, 12], \"GardenBee\": [8, 3, 19, 6, 4], \"RedTail\": [18, 9, 1, 2, 4],\n",
        "                   \"HoneyBee\": [12, 13, 16, 9, 10], \"CarderBee\": [8, 27, 6, 32, 23]},\n",
        "                  index=[\"Thistle\", \"Vipers Bugloss\", \"Golden Rain\", \"Yellow Alfalfa\", \"Blackberry\"])"
      ],
      "execution_count": 0,
      "outputs": []
    },
    {
      "metadata": {
        "id": "90nijvlNCLQe",
        "colab_type": "code",
        "colab": {
          "base_uri": "https://localhost:8080/",
          "height": 104
        },
        "outputId": "9d5e78d7-6ffe-4969-a1db-90f7777f1bac"
      },
      "cell_type": "code",
      "source": [
        "matrix = np.array(df)\n",
        "matrix"
      ],
      "execution_count": 14,
      "outputs": [
        {
          "output_type": "execute_result",
          "data": {
            "text/plain": [
              "array([[10,  8,  8, 12, 18],\n",
              "       [ 1, 27,  3, 13,  9],\n",
              "       [37,  6, 19, 16,  1],\n",
              "       [ 5, 32,  6,  9,  2],\n",
              "       [12, 23,  4, 10,  4]])"
            ]
          },
          "metadata": {
            "tags": []
          },
          "execution_count": 14
        }
      ]
    },
    {
      "metadata": {
        "id": "hfxgcJ9qC-zU",
        "colab_type": "text"
      },
      "cell_type": "markdown",
      "source": [
        "**DataFrame looks like this:**"
      ]
    },
    {
      "metadata": {
        "id": "QiC64DyKCQr2",
        "colab_type": "code",
        "colab": {
          "base_uri": "https://localhost:8080/",
          "height": 206
        },
        "outputId": "3282b1d3-9377-4025-ac6a-7a9cd64f7d2b"
      },
      "cell_type": "code",
      "source": [
        "df"
      ],
      "execution_count": 10,
      "outputs": [
        {
          "output_type": "execute_result",
          "data": {
            "text/html": [
              "<div>\n",
              "<style scoped>\n",
              "    .dataframe tbody tr th:only-of-type {\n",
              "        vertical-align: middle;\n",
              "    }\n",
              "\n",
              "    .dataframe tbody tr th {\n",
              "        vertical-align: top;\n",
              "    }\n",
              "\n",
              "    .dataframe thead th {\n",
              "        text-align: right;\n",
              "    }\n",
              "</style>\n",
              "<table border=\"1\" class=\"dataframe\">\n",
              "  <thead>\n",
              "    <tr style=\"text-align: right;\">\n",
              "      <th></th>\n",
              "      <th>BuffTail</th>\n",
              "      <th>CarderBee</th>\n",
              "      <th>GardenBee</th>\n",
              "      <th>HoneyBee</th>\n",
              "      <th>RedTail</th>\n",
              "    </tr>\n",
              "  </thead>\n",
              "  <tbody>\n",
              "    <tr>\n",
              "      <th>Thistle</th>\n",
              "      <td>10</td>\n",
              "      <td>8</td>\n",
              "      <td>8</td>\n",
              "      <td>12</td>\n",
              "      <td>18</td>\n",
              "    </tr>\n",
              "    <tr>\n",
              "      <th>Vipers Bugloss</th>\n",
              "      <td>1</td>\n",
              "      <td>27</td>\n",
              "      <td>3</td>\n",
              "      <td>13</td>\n",
              "      <td>9</td>\n",
              "    </tr>\n",
              "    <tr>\n",
              "      <th>Golden Rain</th>\n",
              "      <td>37</td>\n",
              "      <td>6</td>\n",
              "      <td>19</td>\n",
              "      <td>16</td>\n",
              "      <td>1</td>\n",
              "    </tr>\n",
              "    <tr>\n",
              "      <th>Yellow Alfalfa</th>\n",
              "      <td>5</td>\n",
              "      <td>32</td>\n",
              "      <td>6</td>\n",
              "      <td>9</td>\n",
              "      <td>2</td>\n",
              "    </tr>\n",
              "    <tr>\n",
              "      <th>Blackberry</th>\n",
              "      <td>12</td>\n",
              "      <td>23</td>\n",
              "      <td>4</td>\n",
              "      <td>10</td>\n",
              "      <td>4</td>\n",
              "    </tr>\n",
              "  </tbody>\n",
              "</table>\n",
              "</div>"
            ],
            "text/plain": [
              "                BuffTail  CarderBee  GardenBee  HoneyBee  RedTail\n",
              "Thistle               10          8          8        12       18\n",
              "Vipers Bugloss         1         27          3        13        9\n",
              "Golden Rain           37          6         19        16        1\n",
              "Yellow Alfalfa         5         32          6         9        2\n",
              "Blackberry            12         23          4        10        4"
            ]
          },
          "metadata": {
            "tags": []
          },
          "execution_count": 10
        }
      ]
    },
    {
      "metadata": {
        "id": "3seOyXWKCe1A",
        "colab_type": "code",
        "colab": {
          "base_uri": "https://localhost:8080/",
          "height": 121
        },
        "outputId": "8da7ca71-b129-4253-936b-4e450bb6d02d"
      },
      "cell_type": "code",
      "source": [
        "df.loc[\"Blackberry\"]\n"
      ],
      "execution_count": 11,
      "outputs": [
        {
          "output_type": "execute_result",
          "data": {
            "text/plain": [
              "BuffTail     12\n",
              "CarderBee    23\n",
              "GardenBee     4\n",
              "HoneyBee     10\n",
              "RedTail       4\n",
              "Name: Blackberry, dtype: int64"
            ]
          },
          "metadata": {
            "tags": []
          },
          "execution_count": 11
        }
      ]
    },
    {
      "metadata": {
        "id": "jBBIQ3fQCiBW",
        "colab_type": "code",
        "colab": {
          "base_uri": "https://localhost:8080/",
          "height": 112
        },
        "outputId": "31ee2bd3-0c53-4a0a-9a53-d39bd7f99043"
      },
      "cell_type": "code",
      "source": [
        "df.loc[[\"Golden Rain\", \"Yellow Alfalfa\"]]\n"
      ],
      "execution_count": 12,
      "outputs": [
        {
          "output_type": "execute_result",
          "data": {
            "text/html": [
              "<div>\n",
              "<style scoped>\n",
              "    .dataframe tbody tr th:only-of-type {\n",
              "        vertical-align: middle;\n",
              "    }\n",
              "\n",
              "    .dataframe tbody tr th {\n",
              "        vertical-align: top;\n",
              "    }\n",
              "\n",
              "    .dataframe thead th {\n",
              "        text-align: right;\n",
              "    }\n",
              "</style>\n",
              "<table border=\"1\" class=\"dataframe\">\n",
              "  <thead>\n",
              "    <tr style=\"text-align: right;\">\n",
              "      <th></th>\n",
              "      <th>BuffTail</th>\n",
              "      <th>CarderBee</th>\n",
              "      <th>GardenBee</th>\n",
              "      <th>HoneyBee</th>\n",
              "      <th>RedTail</th>\n",
              "    </tr>\n",
              "  </thead>\n",
              "  <tbody>\n",
              "    <tr>\n",
              "      <th>Golden Rain</th>\n",
              "      <td>37</td>\n",
              "      <td>6</td>\n",
              "      <td>19</td>\n",
              "      <td>16</td>\n",
              "      <td>1</td>\n",
              "    </tr>\n",
              "    <tr>\n",
              "      <th>Yellow Alfalfa</th>\n",
              "      <td>5</td>\n",
              "      <td>32</td>\n",
              "      <td>6</td>\n",
              "      <td>9</td>\n",
              "      <td>2</td>\n",
              "    </tr>\n",
              "  </tbody>\n",
              "</table>\n",
              "</div>"
            ],
            "text/plain": [
              "                BuffTail  CarderBee  GardenBee  HoneyBee  RedTail\n",
              "Golden Rain           37          6         19        16        1\n",
              "Yellow Alfalfa         5         32          6         9        2"
            ]
          },
          "metadata": {
            "tags": []
          },
          "execution_count": 12
        }
      ]
    },
    {
      "metadata": {
        "id": "vCwO7CZECk4O",
        "colab_type": "code",
        "colab": {
          "base_uri": "https://localhost:8080/",
          "height": 206
        },
        "outputId": "fb6a15ee-4764-4be9-b9a8-865c6915d72c"
      },
      "cell_type": "code",
      "source": [
        "df.loc[:, ['RedTail']]"
      ],
      "execution_count": 13,
      "outputs": [
        {
          "output_type": "execute_result",
          "data": {
            "text/html": [
              "<div>\n",
              "<style scoped>\n",
              "    .dataframe tbody tr th:only-of-type {\n",
              "        vertical-align: middle;\n",
              "    }\n",
              "\n",
              "    .dataframe tbody tr th {\n",
              "        vertical-align: top;\n",
              "    }\n",
              "\n",
              "    .dataframe thead th {\n",
              "        text-align: right;\n",
              "    }\n",
              "</style>\n",
              "<table border=\"1\" class=\"dataframe\">\n",
              "  <thead>\n",
              "    <tr style=\"text-align: right;\">\n",
              "      <th></th>\n",
              "      <th>RedTail</th>\n",
              "    </tr>\n",
              "  </thead>\n",
              "  <tbody>\n",
              "    <tr>\n",
              "      <th>Thistle</th>\n",
              "      <td>18</td>\n",
              "    </tr>\n",
              "    <tr>\n",
              "      <th>Vipers Bugloss</th>\n",
              "      <td>9</td>\n",
              "    </tr>\n",
              "    <tr>\n",
              "      <th>Golden Rain</th>\n",
              "      <td>1</td>\n",
              "    </tr>\n",
              "    <tr>\n",
              "      <th>Yellow Alfalfa</th>\n",
              "      <td>2</td>\n",
              "    </tr>\n",
              "    <tr>\n",
              "      <th>Blackberry</th>\n",
              "      <td>4</td>\n",
              "    </tr>\n",
              "  </tbody>\n",
              "</table>\n",
              "</div>"
            ],
            "text/plain": [
              "                RedTail\n",
              "Thistle              18\n",
              "Vipers Bugloss        9\n",
              "Golden Rain           1\n",
              "Yellow Alfalfa        2\n",
              "Blackberry            4"
            ]
          },
          "metadata": {
            "tags": []
          },
          "execution_count": 13
        }
      ]
    },
    {
      "metadata": {
        "id": "T-ppuUylCn45",
        "colab_type": "code",
        "colab": {
          "base_uri": "https://localhost:8080/",
          "height": 206
        },
        "outputId": "c7326640-a53b-49a1-c1d6-c68bf0bc4400"
      },
      "cell_type": "code",
      "source": [
        "df.sort_values(by=['BuffTail'], ascending=False)"
      ],
      "execution_count": 15,
      "outputs": [
        {
          "output_type": "execute_result",
          "data": {
            "text/html": [
              "<div>\n",
              "<style scoped>\n",
              "    .dataframe tbody tr th:only-of-type {\n",
              "        vertical-align: middle;\n",
              "    }\n",
              "\n",
              "    .dataframe tbody tr th {\n",
              "        vertical-align: top;\n",
              "    }\n",
              "\n",
              "    .dataframe thead th {\n",
              "        text-align: right;\n",
              "    }\n",
              "</style>\n",
              "<table border=\"1\" class=\"dataframe\">\n",
              "  <thead>\n",
              "    <tr style=\"text-align: right;\">\n",
              "      <th></th>\n",
              "      <th>BuffTail</th>\n",
              "      <th>CarderBee</th>\n",
              "      <th>GardenBee</th>\n",
              "      <th>HoneyBee</th>\n",
              "      <th>RedTail</th>\n",
              "    </tr>\n",
              "  </thead>\n",
              "  <tbody>\n",
              "    <tr>\n",
              "      <th>Golden Rain</th>\n",
              "      <td>37</td>\n",
              "      <td>6</td>\n",
              "      <td>19</td>\n",
              "      <td>16</td>\n",
              "      <td>1</td>\n",
              "    </tr>\n",
              "    <tr>\n",
              "      <th>Blackberry</th>\n",
              "      <td>12</td>\n",
              "      <td>23</td>\n",
              "      <td>4</td>\n",
              "      <td>10</td>\n",
              "      <td>4</td>\n",
              "    </tr>\n",
              "    <tr>\n",
              "      <th>Thistle</th>\n",
              "      <td>10</td>\n",
              "      <td>8</td>\n",
              "      <td>8</td>\n",
              "      <td>12</td>\n",
              "      <td>18</td>\n",
              "    </tr>\n",
              "    <tr>\n",
              "      <th>Yellow Alfalfa</th>\n",
              "      <td>5</td>\n",
              "      <td>32</td>\n",
              "      <td>6</td>\n",
              "      <td>9</td>\n",
              "      <td>2</td>\n",
              "    </tr>\n",
              "    <tr>\n",
              "      <th>Vipers Bugloss</th>\n",
              "      <td>1</td>\n",
              "      <td>27</td>\n",
              "      <td>3</td>\n",
              "      <td>13</td>\n",
              "      <td>9</td>\n",
              "    </tr>\n",
              "  </tbody>\n",
              "</table>\n",
              "</div>"
            ],
            "text/plain": [
              "                BuffTail  CarderBee  GardenBee  HoneyBee  RedTail\n",
              "Golden Rain           37          6         19        16        1\n",
              "Blackberry            12         23          4        10        4\n",
              "Thistle               10          8          8        12       18\n",
              "Yellow Alfalfa         5         32          6         9        2\n",
              "Vipers Bugloss         1         27          3        13        9"
            ]
          },
          "metadata": {
            "tags": []
          },
          "execution_count": 15
        }
      ]
    },
    {
      "metadata": {
        "id": "nD2gttdpEjpw",
        "colab_type": "code",
        "colab": {}
      },
      "cell_type": "code",
      "source": [
        ""
      ],
      "execution_count": 0,
      "outputs": []
    }
  ]
}