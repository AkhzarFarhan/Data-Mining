{
  "nbformat": 4,
  "nbformat_minor": 0,
  "metadata": {
    "colab": {
      "name": "DM-2.ipynb",
      "version": "0.3.2",
      "provenance": [],
      "collapsed_sections": [],
      "include_colab_link": true
    },
    "kernelspec": {
      "name": "python3",
      "display_name": "Python 3"
    }
  },
  "cells": [
    {
      "cell_type": "markdown",
      "metadata": {
        "id": "view-in-github",
        "colab_type": "text"
      },
      "source": [
        "<a href=\"https://colab.research.google.com/github/AkhzarFarhan/Data-Mining/blob/master/DM_2.ipynb\" target=\"_parent\"><img src=\"https://colab.research.google.com/assets/colab-badge.svg\" alt=\"Open In Colab\"/></a>"
      ]
    },
    {
      "metadata": {
        "id": "TJe85D6WHehu",
        "colab_type": "text"
      },
      "cell_type": "markdown",
      "source": [
        "##2. Create dataitem sample"
      ]
    },
    {
      "metadata": {
        "id": "Xi6gF8N_A-UP",
        "colab_type": "text"
      },
      "cell_type": "markdown",
      "source": [
        "### Importing random and numpy library"
      ]
    },
    {
      "metadata": {
        "id": "ANnrSkOoAmDB",
        "colab_type": "code",
        "colab": {}
      },
      "cell_type": "code",
      "source": [
        "import random\n",
        "import numpy as np"
      ],
      "execution_count": 0,
      "outputs": []
    },
    {
      "metadata": {
        "id": "NYLVVj4tA7oU",
        "colab_type": "code",
        "outputId": "269fc74e-b269-46d3-a2b4-d310c03c234a",
        "colab": {
          "base_uri": "https://localhost:8080/",
          "height": 34
        }
      },
      "cell_type": "code",
      "source": [
        "sample = [random.randint(0, 99) for i in range(20)]\n",
        "sample"
      ],
      "execution_count": 2,
      "outputs": [
        {
          "output_type": "execute_result",
          "data": {
            "text/plain": [
              "[8, 50, 91, 60, 15, 16, 67, 88, 36, 12, 97, 25, 32, 42, 4, 73, 52, 6, 74, 86]"
            ]
          },
          "metadata": {
            "tags": []
          },
          "execution_count": 2
        }
      ]
    },
    {
      "metadata": {
        "id": "vxjh5HWMCIDX",
        "colab_type": "text"
      },
      "cell_type": "markdown",
      "source": [
        "###Largest item"
      ]
    },
    {
      "metadata": {
        "id": "QATf5zoYBdzW",
        "colab_type": "code",
        "outputId": "c1b6401c-26db-4db0-f84e-a89130828427",
        "colab": {
          "base_uri": "https://localhost:8080/",
          "height": 34
        }
      },
      "cell_type": "code",
      "source": [
        "max(sample)"
      ],
      "execution_count": 3,
      "outputs": [
        {
          "output_type": "execute_result",
          "data": {
            "text/plain": [
              "97"
            ]
          },
          "metadata": {
            "tags": []
          },
          "execution_count": 3
        }
      ]
    },
    {
      "metadata": {
        "id": "Qk3BBPJaCItl",
        "colab_type": "text"
      },
      "cell_type": "markdown",
      "source": [
        "###Smallest item"
      ]
    },
    {
      "metadata": {
        "id": "HXC-dK3BChfu",
        "colab_type": "code",
        "outputId": "3f48030d-5578-48c6-d40a-ebf1f6658743",
        "colab": {
          "base_uri": "https://localhost:8080/",
          "height": 34
        }
      },
      "cell_type": "code",
      "source": [
        "min(sample)"
      ],
      "execution_count": 4,
      "outputs": [
        {
          "output_type": "execute_result",
          "data": {
            "text/plain": [
              "4"
            ]
          },
          "metadata": {
            "tags": []
          },
          "execution_count": 4
        }
      ]
    },
    {
      "metadata": {
        "id": "rAF69fyACJjF",
        "colab_type": "text"
      },
      "cell_type": "markdown",
      "source": [
        "###Number of items"
      ]
    },
    {
      "metadata": {
        "id": "OvSTUtRxCls3",
        "colab_type": "code",
        "outputId": "47ee519a-ed17-4ca3-eba2-6ee5fc78a4a4",
        "colab": {
          "base_uri": "https://localhost:8080/",
          "height": 34
        }
      },
      "cell_type": "code",
      "source": [
        "len(sample)"
      ],
      "execution_count": 5,
      "outputs": [
        {
          "output_type": "execute_result",
          "data": {
            "text/plain": [
              "20"
            ]
          },
          "metadata": {
            "tags": []
          },
          "execution_count": 5
        }
      ]
    },
    {
      "metadata": {
        "id": "Vq9Lj9iDCKRN",
        "colab_type": "text"
      },
      "cell_type": "markdown",
      "source": [
        "###Standard Deviation"
      ]
    },
    {
      "metadata": {
        "id": "9yjTkSofCqQm",
        "colab_type": "code",
        "outputId": "9953b2c8-f088-4a3e-eb61-45c811e32b26",
        "colab": {
          "base_uri": "https://localhost:8080/",
          "height": 34
        }
      },
      "cell_type": "code",
      "source": [
        "np.std(sample)"
      ],
      "execution_count": 6,
      "outputs": [
        {
          "output_type": "execute_result",
          "data": {
            "text/plain": [
              "30.62694891757911"
            ]
          },
          "metadata": {
            "tags": []
          },
          "execution_count": 6
        }
      ]
    },
    {
      "metadata": {
        "id": "YyIvbT08HXee",
        "colab_type": "text"
      },
      "cell_type": "markdown",
      "source": [
        "##3. Create a Matrix"
      ]
    },
    {
      "metadata": {
        "id": "SdUcNDiuIeUG",
        "colab_type": "text"
      },
      "cell_type": "markdown",
      "source": [
        "###2D Matrix"
      ]
    },
    {
      "metadata": {
        "id": "RlsSCFJeEAQT",
        "colab_type": "code",
        "outputId": "df4fe0c1-2e81-446e-d45b-fb2fcace2eca",
        "colab": {
          "base_uri": "https://localhost:8080/",
          "height": 69
        }
      },
      "cell_type": "code",
      "source": [
        "a = np.array([[1, 1, 3], [5, 2, 6], [-2, -1, -3]])\n",
        "a"
      ],
      "execution_count": 7,
      "outputs": [
        {
          "output_type": "execute_result",
          "data": {
            "text/plain": [
              "array([[ 1,  1,  3],\n",
              "       [ 5,  2,  6],\n",
              "       [-2, -1, -3]])"
            ]
          },
          "metadata": {
            "tags": []
          },
          "execution_count": 7
        }
      ]
    },
    {
      "metadata": {
        "id": "6SfltjBjIh9E",
        "colab_type": "text"
      },
      "cell_type": "markdown",
      "source": [
        "###Importing linear algebra as linalg"
      ]
    },
    {
      "metadata": {
        "id": "4oPO6bFTF2h3",
        "colab_type": "code",
        "outputId": "0f665e86-d73a-469d-f4e2-9cb1f8c1b218",
        "colab": {
          "base_uri": "https://localhost:8080/",
          "height": 69
        }
      },
      "cell_type": "code",
      "source": [
        "np.linalg.matrix_power(a, 3)"
      ],
      "execution_count": 8,
      "outputs": [
        {
          "output_type": "execute_result",
          "data": {
            "text/plain": [
              "array([[0, 0, 0],\n",
              "       [0, 0, 0],\n",
              "       [0, 0, 0]])"
            ]
          },
          "metadata": {
            "tags": []
          },
          "execution_count": 8
        }
      ]
    },
    {
      "metadata": {
        "id": "Ri2FdJVKJZBD",
        "colab_type": "code",
        "outputId": "ae7f3c26-a48b-495a-c940-b54fe85b5921",
        "colab": {
          "base_uri": "https://localhost:8080/",
          "height": 69
        }
      },
      "cell_type": "code",
      "source": [
        "a[-1] = a[-1] + a[-2]\n",
        "a"
      ],
      "execution_count": 9,
      "outputs": [
        {
          "output_type": "execute_result",
          "data": {
            "text/plain": [
              "array([[1, 1, 3],\n",
              "       [5, 2, 6],\n",
              "       [3, 1, 3]])"
            ]
          },
          "metadata": {
            "tags": []
          },
          "execution_count": 9
        }
      ]
    },
    {
      "metadata": {
        "id": "sq4bwc8SJqwA",
        "colab_type": "code",
        "outputId": "b5d42a6d-180f-47ca-98ca-133456a4ed7c",
        "colab": {
          "base_uri": "https://localhost:8080/",
          "height": 86
        }
      },
      "cell_type": "code",
      "source": [
        "np.array([[int(i) for i in range(k, k+5)] for k in range(4)])"
      ],
      "execution_count": 10,
      "outputs": [
        {
          "output_type": "execute_result",
          "data": {
            "text/plain": [
              "array([[0, 1, 2, 3, 4],\n",
              "       [1, 2, 3, 4, 5],\n",
              "       [2, 3, 4, 5, 6],\n",
              "       [3, 4, 5, 6, 7]])"
            ]
          },
          "metadata": {
            "tags": []
          },
          "execution_count": 10
        }
      ]
    },
    {
      "metadata": {
        "id": "Xib4X89LLIi_",
        "colab_type": "code",
        "colab": {}
      },
      "cell_type": "code",
      "source": [
        ""
      ],
      "execution_count": 0,
      "outputs": []
    }
  ]
}