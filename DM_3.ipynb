{
  "nbformat": 4,
  "nbformat_minor": 0,
  "metadata": {
    "colab": {
      "name": "DM-3.ipynb",
      "version": "0.3.2",
      "provenance": [],
      "collapsed_sections": [],
      "include_colab_link": true
    },
    "kernelspec": {
      "name": "python3",
      "display_name": "Python 3"
    }
  },
  "cells": [
    {
      "cell_type": "markdown",
      "metadata": {
        "id": "view-in-github",
        "colab_type": "text"
      },
      "source": [
        "<a href=\"https://colab.research.google.com/github/AkhzarFarhan/Data-Mining/blob/master/DM_3.ipynb\" target=\"_parent\"><img src=\"https://colab.research.google.com/assets/colab-badge.svg\" alt=\"Open In Colab\"/></a>"
      ]
    },
    {
      "metadata": {
        "id": "reNu8fKCXok-",
        "colab_type": "text"
      },
      "cell_type": "markdown",
      "source": [
        "# **LABORATORY 3**\n",
        "\n",
        "---\n",
        "\n"
      ]
    },
    {
      "metadata": {
        "id": "mAls9MlRD55o",
        "colab_type": "text"
      },
      "cell_type": "markdown",
      "source": [
        "# 1."
      ]
    },
    {
      "metadata": {
        "id": "lpm7SnRhDmx2",
        "colab_type": "text"
      },
      "cell_type": "markdown",
      "source": [
        "**Create a pandas data structure 'Series' with data=[100,200,300,400,500] and index=['tom','bob','nancy','dan','eric']**"
      ]
    },
    {
      "metadata": {
        "id": "kzIVVAeKDaLb",
        "colab_type": "code",
        "colab": {}
      },
      "cell_type": "code",
      "source": [
        "import pandas as pd\n",
        "import numpy as np"
      ],
      "execution_count": 0,
      "outputs": []
    },
    {
      "metadata": {
        "id": "GWqPdH_JEx3f",
        "colab_type": "code",
        "colab": {}
      },
      "cell_type": "code",
      "source": [
        "series = pd.Series(data=[100, 200, 300, 400, 500],\n",
        "                  index=['tom', 'bob', 'nancy', 'dan', 'eric'])"
      ],
      "execution_count": 0,
      "outputs": []
    },
    {
      "metadata": {
        "id": "gFaAwzsEDs-i",
        "colab_type": "text"
      },
      "cell_type": "markdown",
      "source": [
        "**Change data at index 2 by 'foo'. Print Series.**"
      ]
    },
    {
      "metadata": {
        "id": "qUZFwNOyFax-",
        "colab_type": "code",
        "outputId": "c3aaddd2-ec78-44b1-a2c2-377c6e3aece1",
        "colab": {
          "base_uri": "https://localhost:8080/",
          "height": 121
        }
      },
      "cell_type": "code",
      "source": [
        "series['nancy'] = 'foo'\n",
        "series"
      ],
      "execution_count": 3,
      "outputs": [
        {
          "output_type": "execute_result",
          "data": {
            "text/plain": [
              "tom      100\n",
              "bob      200\n",
              "nancy    foo\n",
              "dan      400\n",
              "eric     500\n",
              "dtype: object"
            ]
          },
          "metadata": {
            "tags": []
          },
          "execution_count": 3
        }
      ]
    },
    {
      "metadata": {
        "id": "Id_PUpZ5Duf2",
        "colab_type": "text"
      },
      "cell_type": "markdown",
      "source": [
        "**Print data corresponding to index ‘nancy’, ‘tom’, ‘eric’ in a single statement.**"
      ]
    },
    {
      "metadata": {
        "id": "HMxtr1AYJX9z",
        "colab_type": "code",
        "outputId": "16dcd1f9-6d18-4567-ee65-f0154380a5e9",
        "colab": {
          "base_uri": "https://localhost:8080/",
          "height": 86
        }
      },
      "cell_type": "code",
      "source": [
        "series[['nancy', 'tom', 'eric']]"
      ],
      "execution_count": 4,
      "outputs": [
        {
          "output_type": "execute_result",
          "data": {
            "text/plain": [
              "nancy    foo\n",
              "tom      100\n",
              "eric     500\n",
              "dtype: object"
            ]
          },
          "metadata": {
            "tags": []
          },
          "execution_count": 4
        }
      ]
    },
    {
      "metadata": {
        "id": "SOl-FjoODxTx",
        "colab_type": "text"
      },
      "cell_type": "markdown",
      "source": [
        "**Multiply series data by 2 and print result.**"
      ]
    },
    {
      "metadata": {
        "id": "3orsE4lLLFW9",
        "colab_type": "code",
        "outputId": "9e49b388-82d6-4552-8d00-111888906271",
        "colab": {
          "base_uri": "https://localhost:8080/",
          "height": 121
        }
      },
      "cell_type": "code",
      "source": [
        "series * 2"
      ],
      "execution_count": 5,
      "outputs": [
        {
          "output_type": "execute_result",
          "data": {
            "text/plain": [
              "tom         200\n",
              "bob         400\n",
              "nancy    foofoo\n",
              "dan         800\n",
              "eric       1000\n",
              "dtype: object"
            ]
          },
          "metadata": {
            "tags": []
          },
          "execution_count": 5
        }
      ]
    },
    {
      "metadata": {
        "id": "SRO2jSDZD0KS",
        "colab_type": "text"
      },
      "cell_type": "markdown",
      "source": [
        "**Power series data by 2 corresponding to index value ‘tom’ and ‘dan’.**"
      ]
    },
    {
      "metadata": {
        "id": "FS0qSTYmLQBJ",
        "colab_type": "code",
        "outputId": "d0441903-930c-4d8d-a868-b72e1fc99fca",
        "colab": {
          "base_uri": "https://localhost:8080/",
          "height": 69
        }
      },
      "cell_type": "code",
      "source": [
        "series[['tom', 'dan']] ** 2"
      ],
      "execution_count": 6,
      "outputs": [
        {
          "output_type": "execute_result",
          "data": {
            "text/plain": [
              "tom     10000\n",
              "dan    160000\n",
              "dtype: object"
            ]
          },
          "metadata": {
            "tags": []
          },
          "execution_count": 6
        }
      ]
    },
    {
      "metadata": {
        "id": "VQgSCrkMD_3O",
        "colab_type": "text"
      },
      "cell_type": "markdown",
      "source": [
        "# 2."
      ]
    },
    {
      "metadata": {
        "id": "js_rP4QaLyEr",
        "colab_type": "text"
      },
      "cell_type": "markdown",
      "source": [
        "### Create a dictionary ‘df’ having key-value pair as-\n",
        "\n",
        "### One: Series(data= [100,300,600], index=[‘apple’ , ’ball’ , ’clock’]\n",
        "\n",
        "### Two: Series(data=[111,333,666], index=[‘apple’, ‘ball’, ‘bat’] "
      ]
    },
    {
      "metadata": {
        "id": "NIQ97_R3EDfl",
        "colab_type": "text"
      },
      "cell_type": "markdown",
      "source": [
        "**Create a data frame ‘df’ using above dictionary ‘d’.**"
      ]
    },
    {
      "metadata": {
        "id": "AYodUNYVLpT-",
        "colab_type": "code",
        "outputId": "b841f194-38f5-4bf1-a3cc-ecff7b84036d",
        "colab": {
          "base_uri": "https://localhost:8080/",
          "height": 175
        }
      },
      "cell_type": "code",
      "source": [
        "one = pd.Series(data=[100, 300, 600],\n",
        "               index=['apple', 'ball', 'clock'])\n",
        "two = pd.Series(data=[111, 333, 666],\n",
        "               index=['apple', 'ball', 'bat'])\n",
        "\n",
        "d = {'one': one, 'two': two}\n",
        "\n",
        "df = pd.DataFrame(d)\n",
        "df"
      ],
      "execution_count": 7,
      "outputs": [
        {
          "output_type": "execute_result",
          "data": {
            "text/html": [
              "<div>\n",
              "<style scoped>\n",
              "    .dataframe tbody tr th:only-of-type {\n",
              "        vertical-align: middle;\n",
              "    }\n",
              "\n",
              "    .dataframe tbody tr th {\n",
              "        vertical-align: top;\n",
              "    }\n",
              "\n",
              "    .dataframe thead th {\n",
              "        text-align: right;\n",
              "    }\n",
              "</style>\n",
              "<table border=\"1\" class=\"dataframe\">\n",
              "  <thead>\n",
              "    <tr style=\"text-align: right;\">\n",
              "      <th></th>\n",
              "      <th>one</th>\n",
              "      <th>two</th>\n",
              "    </tr>\n",
              "  </thead>\n",
              "  <tbody>\n",
              "    <tr>\n",
              "      <th>apple</th>\n",
              "      <td>100.0</td>\n",
              "      <td>111.0</td>\n",
              "    </tr>\n",
              "    <tr>\n",
              "      <th>ball</th>\n",
              "      <td>300.0</td>\n",
              "      <td>333.0</td>\n",
              "    </tr>\n",
              "    <tr>\n",
              "      <th>bat</th>\n",
              "      <td>NaN</td>\n",
              "      <td>666.0</td>\n",
              "    </tr>\n",
              "    <tr>\n",
              "      <th>clock</th>\n",
              "      <td>600.0</td>\n",
              "      <td>NaN</td>\n",
              "    </tr>\n",
              "  </tbody>\n",
              "</table>\n",
              "</div>"
            ],
            "text/plain": [
              "         one    two\n",
              "apple  100.0  111.0\n",
              "ball   300.0  333.0\n",
              "bat      NaN  666.0\n",
              "clock  600.0    NaN"
            ]
          },
          "metadata": {
            "tags": []
          },
          "execution_count": 7
        }
      ]
    },
    {
      "metadata": {
        "id": "MmvgsXV4EOLm",
        "colab_type": "text"
      },
      "cell_type": "markdown",
      "source": [
        "**Create another data frame df1 using ‘d’ having index = [‘bat’, ‘ball’, ‘apple’] and columns = [‘two’, ‘five’] **"
      ]
    },
    {
      "metadata": {
        "id": "CoHqDIEbO9GC",
        "colab_type": "code",
        "outputId": "a6e2d11f-8100-4cd8-a374-600c8d324906",
        "colab": {
          "base_uri": "https://localhost:8080/",
          "height": 143
        }
      },
      "cell_type": "code",
      "source": [
        "df1 = pd.DataFrame(d, index=['bat', 'ball', 'apple'], columns=['two', 'one'])\n",
        "df1"
      ],
      "execution_count": 8,
      "outputs": [
        {
          "output_type": "execute_result",
          "data": {
            "text/html": [
              "<div>\n",
              "<style scoped>\n",
              "    .dataframe tbody tr th:only-of-type {\n",
              "        vertical-align: middle;\n",
              "    }\n",
              "\n",
              "    .dataframe tbody tr th {\n",
              "        vertical-align: top;\n",
              "    }\n",
              "\n",
              "    .dataframe thead th {\n",
              "        text-align: right;\n",
              "    }\n",
              "</style>\n",
              "<table border=\"1\" class=\"dataframe\">\n",
              "  <thead>\n",
              "    <tr style=\"text-align: right;\">\n",
              "      <th></th>\n",
              "      <th>two</th>\n",
              "      <th>one</th>\n",
              "    </tr>\n",
              "  </thead>\n",
              "  <tbody>\n",
              "    <tr>\n",
              "      <th>bat</th>\n",
              "      <td>666</td>\n",
              "      <td>NaN</td>\n",
              "    </tr>\n",
              "    <tr>\n",
              "      <th>ball</th>\n",
              "      <td>333</td>\n",
              "      <td>300.0</td>\n",
              "    </tr>\n",
              "    <tr>\n",
              "      <th>apple</th>\n",
              "      <td>111</td>\n",
              "      <td>100.0</td>\n",
              "    </tr>\n",
              "  </tbody>\n",
              "</table>\n",
              "</div>"
            ],
            "text/plain": [
              "       two    one\n",
              "bat    666    NaN\n",
              "ball   333  300.0\n",
              "apple  111  100.0"
            ]
          },
          "metadata": {
            "tags": []
          },
          "execution_count": 8
        }
      ]
    },
    {
      "metadata": {
        "id": "SnCSn73EERau",
        "colab_type": "text"
      },
      "cell_type": "markdown",
      "source": [
        "**Print the column one data in ‘df’.**"
      ]
    },
    {
      "metadata": {
        "id": "6QNrhw4tQ-bG",
        "colab_type": "code",
        "outputId": "14601c13-6ead-402c-ca64-f9997bd8593c",
        "colab": {
          "base_uri": "https://localhost:8080/",
          "height": 86
        }
      },
      "cell_type": "code",
      "source": [
        "df1['one']"
      ],
      "execution_count": 9,
      "outputs": [
        {
          "output_type": "execute_result",
          "data": {
            "text/plain": [
              "bat        NaN\n",
              "ball     300.0\n",
              "apple    100.0\n",
              "Name: one, dtype: float64"
            ]
          },
          "metadata": {
            "tags": []
          },
          "execution_count": 9
        }
      ]
    },
    {
      "metadata": {
        "id": "tu34yCI3ET_d",
        "colab_type": "text"
      },
      "cell_type": "markdown",
      "source": [
        "** Insert a column named ‘three’ having values as sum of column ‘one’ and ‘two’.**"
      ]
    },
    {
      "metadata": {
        "id": "RlCK6J2STMGj",
        "colab_type": "code",
        "outputId": "34f16bc7-0b34-445f-e918-f4857ba63932",
        "colab": {
          "base_uri": "https://localhost:8080/",
          "height": 143
        }
      },
      "cell_type": "code",
      "source": [
        "df1['three'] = df1['one'] + df1['two']\n",
        "df1"
      ],
      "execution_count": 10,
      "outputs": [
        {
          "output_type": "execute_result",
          "data": {
            "text/html": [
              "<div>\n",
              "<style scoped>\n",
              "    .dataframe tbody tr th:only-of-type {\n",
              "        vertical-align: middle;\n",
              "    }\n",
              "\n",
              "    .dataframe tbody tr th {\n",
              "        vertical-align: top;\n",
              "    }\n",
              "\n",
              "    .dataframe thead th {\n",
              "        text-align: right;\n",
              "    }\n",
              "</style>\n",
              "<table border=\"1\" class=\"dataframe\">\n",
              "  <thead>\n",
              "    <tr style=\"text-align: right;\">\n",
              "      <th></th>\n",
              "      <th>two</th>\n",
              "      <th>one</th>\n",
              "      <th>three</th>\n",
              "    </tr>\n",
              "  </thead>\n",
              "  <tbody>\n",
              "    <tr>\n",
              "      <th>bat</th>\n",
              "      <td>666</td>\n",
              "      <td>NaN</td>\n",
              "      <td>NaN</td>\n",
              "    </tr>\n",
              "    <tr>\n",
              "      <th>ball</th>\n",
              "      <td>333</td>\n",
              "      <td>300.0</td>\n",
              "      <td>633.0</td>\n",
              "    </tr>\n",
              "    <tr>\n",
              "      <th>apple</th>\n",
              "      <td>111</td>\n",
              "      <td>100.0</td>\n",
              "      <td>211.0</td>\n",
              "    </tr>\n",
              "  </tbody>\n",
              "</table>\n",
              "</div>"
            ],
            "text/plain": [
              "       two    one  three\n",
              "bat    666    NaN    NaN\n",
              "ball   333  300.0  633.0\n",
              "apple  111  100.0  211.0"
            ]
          },
          "metadata": {
            "tags": []
          },
          "execution_count": 10
        }
      ]
    },
    {
      "metadata": {
        "id": "rVfb9oD8EXkN",
        "colab_type": "text"
      },
      "cell_type": "markdown",
      "source": [
        "**Delete column ‘one’ from ‘df’ using “pop” function, further print values and type of deleted column.**"
      ]
    },
    {
      "metadata": {
        "id": "D1aHTgBPTk24",
        "colab_type": "code",
        "outputId": "0f64e7cf-8e31-4e97-a601-084bd8706963",
        "colab": {
          "base_uri": "https://localhost:8080/",
          "height": 86
        }
      },
      "cell_type": "code",
      "source": [
        "df1.pop('one')"
      ],
      "execution_count": 11,
      "outputs": [
        {
          "output_type": "execute_result",
          "data": {
            "text/plain": [
              "bat        NaN\n",
              "ball     300.0\n",
              "apple    100.0\n",
              "Name: one, dtype: float64"
            ]
          },
          "metadata": {
            "tags": []
          },
          "execution_count": 11
        }
      ]
    },
    {
      "metadata": {
        "id": "k_cSGfUeULAe",
        "colab_type": "code",
        "outputId": "16dafbf1-7200-415c-a269-ae3be9a1a0ad",
        "colab": {
          "base_uri": "https://localhost:8080/",
          "height": 143
        }
      },
      "cell_type": "code",
      "source": [
        "df1"
      ],
      "execution_count": 12,
      "outputs": [
        {
          "output_type": "execute_result",
          "data": {
            "text/html": [
              "<div>\n",
              "<style scoped>\n",
              "    .dataframe tbody tr th:only-of-type {\n",
              "        vertical-align: middle;\n",
              "    }\n",
              "\n",
              "    .dataframe tbody tr th {\n",
              "        vertical-align: top;\n",
              "    }\n",
              "\n",
              "    .dataframe thead th {\n",
              "        text-align: right;\n",
              "    }\n",
              "</style>\n",
              "<table border=\"1\" class=\"dataframe\">\n",
              "  <thead>\n",
              "    <tr style=\"text-align: right;\">\n",
              "      <th></th>\n",
              "      <th>two</th>\n",
              "      <th>three</th>\n",
              "    </tr>\n",
              "  </thead>\n",
              "  <tbody>\n",
              "    <tr>\n",
              "      <th>bat</th>\n",
              "      <td>666</td>\n",
              "      <td>NaN</td>\n",
              "    </tr>\n",
              "    <tr>\n",
              "      <th>ball</th>\n",
              "      <td>333</td>\n",
              "      <td>633.0</td>\n",
              "    </tr>\n",
              "    <tr>\n",
              "      <th>apple</th>\n",
              "      <td>111</td>\n",
              "      <td>211.0</td>\n",
              "    </tr>\n",
              "  </tbody>\n",
              "</table>\n",
              "</div>"
            ],
            "text/plain": [
              "       two  three\n",
              "bat    666    NaN\n",
              "ball   333  633.0\n",
              "apple  111  211.0"
            ]
          },
          "metadata": {
            "tags": []
          },
          "execution_count": 12
        }
      ]
    },
    {
      "metadata": {
        "id": "0DfMFfhBEard",
        "colab_type": "text"
      },
      "cell_type": "markdown",
      "source": [
        "**Delete column ‘two’ from ‘df’ using del function.**"
      ]
    },
    {
      "metadata": {
        "id": "wRQ5mSWkUWAW",
        "colab_type": "code",
        "outputId": "5bb3a31a-739e-471b-9521-d94dae31668c",
        "colab": {
          "base_uri": "https://localhost:8080/",
          "height": 143
        }
      },
      "cell_type": "code",
      "source": [
        "del df1['two']\n",
        "df1"
      ],
      "execution_count": 13,
      "outputs": [
        {
          "output_type": "execute_result",
          "data": {
            "text/html": [
              "<div>\n",
              "<style scoped>\n",
              "    .dataframe tbody tr th:only-of-type {\n",
              "        vertical-align: middle;\n",
              "    }\n",
              "\n",
              "    .dataframe tbody tr th {\n",
              "        vertical-align: top;\n",
              "    }\n",
              "\n",
              "    .dataframe thead th {\n",
              "        text-align: right;\n",
              "    }\n",
              "</style>\n",
              "<table border=\"1\" class=\"dataframe\">\n",
              "  <thead>\n",
              "    <tr style=\"text-align: right;\">\n",
              "      <th></th>\n",
              "      <th>three</th>\n",
              "    </tr>\n",
              "  </thead>\n",
              "  <tbody>\n",
              "    <tr>\n",
              "      <th>bat</th>\n",
              "      <td>NaN</td>\n",
              "    </tr>\n",
              "    <tr>\n",
              "      <th>ball</th>\n",
              "      <td>633.0</td>\n",
              "    </tr>\n",
              "    <tr>\n",
              "      <th>apple</th>\n",
              "      <td>211.0</td>\n",
              "    </tr>\n",
              "  </tbody>\n",
              "</table>\n",
              "</div>"
            ],
            "text/plain": [
              "       three\n",
              "bat      NaN\n",
              "ball   633.0\n",
              "apple  211.0"
            ]
          },
          "metadata": {
            "tags": []
          },
          "execution_count": 13
        }
      ]
    },
    {
      "metadata": {
        "id": "MyDkJK72Ee3t",
        "colab_type": "text"
      },
      "cell_type": "markdown",
      "source": [
        "**Insert a column in ‘df’ named as ‘three_upper_half’ having only top two values of column ‘three’.**"
      ]
    },
    {
      "metadata": {
        "id": "bavby0pCU9uz",
        "colab_type": "code",
        "outputId": "11dcb116-5e2c-46d3-c873-0bc635ae4112",
        "colab": {
          "base_uri": "https://localhost:8080/",
          "height": 143
        }
      },
      "cell_type": "code",
      "source": [
        "df1['three_upper_half'] = df1['three'][:2]\n",
        "df1"
      ],
      "execution_count": 14,
      "outputs": [
        {
          "output_type": "execute_result",
          "data": {
            "text/html": [
              "<div>\n",
              "<style scoped>\n",
              "    .dataframe tbody tr th:only-of-type {\n",
              "        vertical-align: middle;\n",
              "    }\n",
              "\n",
              "    .dataframe tbody tr th {\n",
              "        vertical-align: top;\n",
              "    }\n",
              "\n",
              "    .dataframe thead th {\n",
              "        text-align: right;\n",
              "    }\n",
              "</style>\n",
              "<table border=\"1\" class=\"dataframe\">\n",
              "  <thead>\n",
              "    <tr style=\"text-align: right;\">\n",
              "      <th></th>\n",
              "      <th>three</th>\n",
              "      <th>three_upper_half</th>\n",
              "    </tr>\n",
              "  </thead>\n",
              "  <tbody>\n",
              "    <tr>\n",
              "      <th>bat</th>\n",
              "      <td>NaN</td>\n",
              "      <td>NaN</td>\n",
              "    </tr>\n",
              "    <tr>\n",
              "      <th>ball</th>\n",
              "      <td>633.0</td>\n",
              "      <td>633.0</td>\n",
              "    </tr>\n",
              "    <tr>\n",
              "      <th>apple</th>\n",
              "      <td>211.0</td>\n",
              "      <td>NaN</td>\n",
              "    </tr>\n",
              "  </tbody>\n",
              "</table>\n",
              "</div>"
            ],
            "text/plain": [
              "       three  three_upper_half\n",
              "bat      NaN               NaN\n",
              "ball   633.0             633.0\n",
              "apple  211.0               NaN"
            ]
          },
          "metadata": {
            "tags": []
          },
          "execution_count": 14
        }
      ]
    },
    {
      "metadata": {
        "id": "4uFYxZaS2JPy",
        "colab_type": "text"
      },
      "cell_type": "markdown",
      "source": [
        "###  Print the last item from year and pop"
      ]
    },
    {
      "metadata": {
        "id": "_wpORvk52cHy",
        "colab_type": "code",
        "colab": {
          "base_uri": "https://localhost:8080/",
          "height": 52
        },
        "outputId": "1b5dbcb8-5f77-4acf-96db-3a7efe6e968a"
      },
      "cell_type": "code",
      "source": [
        "year = [1950, 1951, 1952, 1953, 1954, 1955, 1956, 1957, 1958, 1959, 1960, 1961,\n",
        "        1962, 1963, 1964, 1965, 1966, 1967, 1968, 1969, 1970, 1971, 1972, 1973,\n",
        "        1974, 1975, 1976, 1977, 1978, 1979, 1980, 1981, 1982, 1983, 1984, 1985,\n",
        "        1986, 1987, 1988, 1989, 1990, 1991, 1992, 1993, 1994, 1995, 1996, 1997,\n",
        "        1998, 1999, 2000, 2001, 2002, 2003, 2004, 2005, 2006, 2007, 2008, 2009,\n",
        "        2010, 2011, 2012, 2013, 2014, 2015, 2016, 2017, 2018, 2019, 2020, 2021,\n",
        "        2022, 2023, 2024, 2025, 2026, 2027, 2028, 2029, 2030, 2031, 2032, 2033,\n",
        "        2034, 2035, 2036, 2037, 2038, 2039, 2040, 2041, 2042, 2043, 2044, 2045,\n",
        "        2046, 2047, 2048, 2049, 2050, 2051, 2052, 2053, 2054, 2055, 2056, 2057,\n",
        "        2058, 2059, 2060, 2061, 2062, 2063, 2064, 2065, 2066, 2067, 2068, 2069,\n",
        "        2070, 2071, 2072, 2073, 2074, 2075, 2076, 2077, 2078, 2079, 2080, 2081,\n",
        "        2082, 2083, 2084, 2085, 2086, 2087, 2088, 2089, 2090, 2091, 2092, 2093,\n",
        "        2094, 2095, 2096, 2097, 2098, 2099, 2100]\n",
        "\n",
        "pop = [2.53, 2.57, 2.62, 2.67, 2.71, 2.76, 2.81, 2.86, 2.92, 2.97, 3.03, 3.08,\n",
        "       3.14, 3.2, 3.26, 3.33, 3.4, 3.47, 3.54, 3.62, 3.69, 3.77, 3.84, 3.92,\n",
        "       4.0, 4.07, 4.15, 4.22, 4.3, 4.37, 4.45, 4.53, 4.61, 4.69, 4.78, 4.86,\n",
        "       4.95, 5.05, 5.14, 5.23, 5.32, 5.41, 5.49, 5.58, 5.66, 5.74, 5.82, 5.9,\n",
        "       5.98, 6.05, 6.13, 6.2, 6.28, 6.36, 6.44, 6.51, 6.59, 6.67, 6.75, 6.83,\n",
        "       6.92, 7.0, 7.08, 7.16, 7.24, 7.32, 7.4, 7.48, 7.56, 7.64, 7.72, 7.79,\n",
        "       7.87, 7.94, 8.01, 8.08, 8.15, 8.22, 8.29, 8.36, 8.42, 8.49, 8.56, 8.62,\n",
        "       8.68, 8.74, 8.8, 8.86, 8.92, 8.98, 9.04, 9.09, 9.15, 9.2, 9.26, 9.31,\n",
        "       9.36, 9.41, 9.46, 9.5, 9.55, 9.6, 9.64, 9.68, 9.73, 9.77, 9.81, 9.85,\n",
        "       9.88, 9.92, 9.96, 9.99, 10.03, 10.06, 10.09, 10.13, 10.16, 10.19, 10.22,\n",
        "       10.25, 10.28, 10.31, 10.33, 10.36, 10.38, 10.41, 10.43, 10.46, 10.48,\n",
        "       10.5, 10.52, 10.55, 10.57, 10.59, 10.61, 10.63, 10.65, 10.66, 10.68,\n",
        "       10.7, 10.72, 10.73, 10.75, 10.77, 10.78, 10.79, 10.81, 10.82, 10.83,\n",
        "       10.84, 10.85]\n",
        "\n",
        "print(year[-1])\n",
        "print(pop[-1])\n",
        "\n",
        "\n",
        "import matplotlib.pyplot as plt"
      ],
      "execution_count": 15,
      "outputs": [
        {
          "output_type": "stream",
          "text": [
            "2100\n",
            "10.85\n"
          ],
          "name": "stdout"
        }
      ]
    },
    {
      "metadata": {
        "id": "mrMOTm9J3hfZ",
        "colab_type": "text"
      },
      "cell_type": "markdown",
      "source": [
        "### Make a line plot: year on the x-axis, pop on the y-axis"
      ]
    },
    {
      "metadata": {
        "id": "hElvlFpw3oen",
        "colab_type": "code",
        "colab": {
          "base_uri": "https://localhost:8080/",
          "height": 364
        },
        "outputId": "889bf5bf-47d3-4feb-bafa-5f24655625ce"
      },
      "cell_type": "code",
      "source": [
        "plt.plot(year, pop)"
      ],
      "execution_count": 16,
      "outputs": [
        {
          "output_type": "execute_result",
          "data": {
            "text/plain": [
              "[<matplotlib.lines.Line2D at 0x7fdd084bb828>]"
            ]
          },
          "metadata": {
            "tags": []
          },
          "execution_count": 16
        },
        {
          "output_type": "display_data",
          "data": {
            "image/png": "[encoded data removed]",
            "text/plain": [
              "<Figure size 576x396 with 1 Axes>"
            ]
          },
          "metadata": {
            "tags": []
          }
        }
      ]
    },
    {
      "metadata": {
        "id": "k3VLs34y35bd",
        "colab_type": "code",
        "colab": {}
      },
      "cell_type": "code",
      "source": [
        "gdp_cap = [974.5803384, 5937.029525999998, 6223.367465, 4797.231267,\n",
        "           12779.37964, 34435.367439999995, 36126.4927, 29796.04834,\n",
        "           1391.253792, 33692.60508, 1441.284873, 3822.137084, 7446.298803,\n",
        "           12569.85177, 9065.800825, 10680.79282, 1217.032994, 430.0706916,\n",
        "           1713.778686, 2042.09524, 36319.23501, 706.016537, 1704.063724,\n",
        "           13171.63885, 4959.114854, 7006.580419, 986.1478792, 277.5518587,\n",
        "           3632.557798, 9645.06142, 1544.750112, 14619.222719999998,\n",
        "           8948.102923, 22833.30851, 35278.41874, 2082.4815670000007,\n",
        "           6025.3747520000015, 6873.262326000001, 5581.180998, 5728.353514,\n",
        "           12154.08975, 641.3695236000002, 690.8055759, 33207.0844, 30470.0167,\n",
        "           13206.48452, 752.7497265, 32170.37442, 1327.60891, 27538.41188,\n",
        "           5186.050003, 942.6542111, 579.2317429999998, 1201.637154,\n",
        "           3548.3308460000007, 39724.97867, 18008.94444, 36180.78919,\n",
        "           2452.210407, 3540.651564, 11605.71449, 4471.061906, 40675.99635,\n",
        "           25523.2771, 28569.7197, 7320.8802620000015, 31656.06806, 4519.461171,\n",
        "           1463.249282, 1593.06548, 23348.139730000006, 47306.98978,\n",
        "           10461.05868, 1569.331442, 414.5073415, 12057.49928, 1044.770126,\n",
        "           759.3499101, 12451.6558, 1042.581557, 1803.151496, 10956.99112,\n",
        "           11977.57496, 3095.7722710000007, 9253.896111, 3820.17523,\n",
        "           823.6856205, 944.0, 4811.060429, 1091.359778, 36797.93332,\n",
        "           25185.00911, 2749.320965, 619.6768923999998, 2013.977305,\n",
        "           49357.19017, 22316.19287, 2605.94758, 9809.185636, 4172.838464,\n",
        "           7408.905561, 3190.481016, 15389.924680000002, 20509.64777,\n",
        "           19328.70901, 7670.122558, 10808.47561, 863.0884639000002,\n",
        "           1598.435089, 21654.83194, 1712.472136, 9786.534714,\n",
        "           862.5407561000002, 47143.17964, 18678.31435, 25768.25759,\n",
        "           926.1410683, 9269.657808, 28821.0637, 3970.095407, 2602.394995,\n",
        "           4513.480643, 33859.74835, 37506.41907, 4184.548089, 28718.27684,\n",
        "           1107.482182, 7458.396326999998, 882.9699437999999, 18008.50924,\n",
        "           7092.923025, 8458.276384, 1056.380121, 33203.26128, 42951.65309,\n",
        "           10611.46299, 11415.80569, 2441.576404, 3025.349798, 2280.769906,\n",
        "           1271.211593, 469.70929810000007]\n",
        "\n",
        "life_exp = [43.828, 76.423, 72.301, 42.731, 75.32, 81.235, 79.829, 75.635,\n",
        "              64.062, 79.441, 56.728, 65.554, 74.852, 50.728, 72.39, 73.005,\n",
        "              52.295, 49.58, 59.723, 50.43, 80.653, 44.74100000000001, 50.651,\n",
        "              78.553, 72.961, 72.889, 65.152, 46.462, 55.322, 78.782, 48.328,\n",
        "              75.748, 78.273, 76.486, 78.332, 54.791, 72.235, 74.994,\n",
        "              71.33800000000002, 71.878, 51.57899999999999, 58.04, 52.947,\n",
        "              79.313, 80.657, 56.735, 59.448, 79.406, 60.022, 79.483, 70.259,\n",
        "              56.007, 46.38800000000001, 60.916, 70.19800000000001, 82.208,\n",
        "              73.33800000000002, 81.757, 64.69800000000001, 70.65, 70.964,\n",
        "              59.545, 78.885, 80.745, 80.546, 72.567, 82.603, 72.535, 54.11,\n",
        "              67.297, 78.623, 77.58800000000002, 71.993, 42.592, 45.678, 73.952,\n",
        "              59.44300000000001, 48.303, 74.241, 54.467, 64.164, 72.801, 76.195,\n",
        "              66.803, 74.543, 71.164, 42.082, 62.069, 52.90600000000001, 63.785,\n",
        "              79.762, 80.204, 72.899, 56.867, 46.859, 80.196, 75.64, 65.483,\n",
        "              75.53699999999998, 71.752, 71.421, 71.688, 75.563, 78.098,\n",
        "              78.74600000000002, 76.442, 72.476, 46.242, 65.528, 72.777, 63.062,\n",
        "              74.002, 42.56800000000001, 79.972, 74.663, 77.926, 48.159, 49.339,\n",
        "              80.941, 72.396, 58.556, 39.613, 80.884, 81.70100000000002, 74.143,\n",
        "              78.4, 52.517, 70.616, 58.42, 69.819, 73.923, 71.777, 51.542,\n",
        "              79.425, 78.242, 76.384, 73.747, 74.249, 73.422, 62.698,\n",
        "              42.38399999999999, 43.487]\n",
        "\n"
      ],
      "execution_count": 0,
      "outputs": []
    },
    {
      "metadata": {
        "id": "fBdz98N95wSG",
        "colab_type": "text"
      },
      "cell_type": "markdown",
      "source": [
        "### Print the last item of gdp_cap and life_exp\n"
      ]
    },
    {
      "metadata": {
        "id": "Cl2qVfNE5z2v",
        "colab_type": "code",
        "colab": {
          "base_uri": "https://localhost:8080/",
          "height": 52
        },
        "outputId": "e60ec552-88eb-46c6-87e2-81ffab8ebc4e"
      },
      "cell_type": "code",
      "source": [
        "print(\"{}\\n{}\".format(gdp_cap[-1], life_exp[-1]))"
      ],
      "execution_count": 18,
      "outputs": [
        {
          "output_type": "stream",
          "text": [
            "469.70929810000007\n",
            "43.487\n"
          ],
          "name": "stdout"
        }
      ]
    },
    {
      "metadata": {
        "id": "nfAO140r552h",
        "colab_type": "text"
      },
      "cell_type": "markdown",
      "source": [
        "### Make a line plot, gdp_cap on the x-axis, life_exp on the y-axis"
      ]
    },
    {
      "metadata": {
        "id": "wsziD_wN5-zQ",
        "colab_type": "code",
        "colab": {
          "base_uri": "https://localhost:8080/",
          "height": 364
        },
        "outputId": "50842e0f-4dbf-4d06-ca4e-917f87fff3c6"
      },
      "cell_type": "code",
      "source": [
        " plt.plot(gdp_cap, life_exp)"
      ],
      "execution_count": 19,
      "outputs": [
        {
          "output_type": "execute_result",
          "data": {
            "text/plain": [
              "[<matplotlib.lines.Line2D at 0x7fdd05c475c0>]"
            ]
          },
          "metadata": {
            "tags": []
          },
          "execution_count": 19
        },
        {
          "output_type": "display_data",
          "data": {
            "image/png": "[encoded data removed]",
            "text/plain": [
              "<Figure size 576x396 with 1 Axes>"
            ]
          },
          "metadata": {
            "tags": []
          }
        }
      ]
    },
    {
      "metadata": {
        "id": "tSNXqW4RKRSw",
        "colab_type": "text"
      },
      "cell_type": "markdown",
      "source": [
        "### Change the line plot below to a scatter plot and put the x-axis on a logarithmic scale\n"
      ]
    },
    {
      "metadata": {
        "id": "JjBXDTSB6YmS",
        "colab_type": "code",
        "colab": {
          "base_uri": "https://localhost:8080/",
          "height": 351
        },
        "outputId": "48ac9941-511c-4d11-919b-df013710866b"
      },
      "cell_type": "code",
      "source": [
        "plt.scatter(gdp_cap, life_exp)\n",
        "plt.xscale('log')"
      ],
      "execution_count": 20,
      "outputs": [
        {
          "output_type": "display_data",
          "data": {
            "image/png": "[encoded data removed]",
            "text/plain": [
              "<Figure size 576x396 with 1 Axes>"
            ]
          },
          "metadata": {
            "tags": []
          }
        }
      ]
    },
    {
      "metadata": {
        "id": "mQwgkStBKwhl",
        "colab_type": "text"
      },
      "cell_type": "markdown",
      "source": [
        "### Build Scatter plot"
      ]
    },
    {
      "metadata": {
        "id": "dVzykJfwKdrQ",
        "colab_type": "code",
        "colab": {
          "base_uri": "https://localhost:8080/",
          "height": 364
        },
        "outputId": "fd54dd41-6a56-4d93-f675-ac9961012112"
      },
      "cell_type": "code",
      "source": [
        "pop = [31.889923, 3.600523, 33.333216, 12.420476, 40.301927, 20.434176,\n",
        "       8.199783, 0.708573, 150.448339, 10.392226, 8.078314, 9.119152, 4.552198,\n",
        "       1.639131, 190.010647, 7.322858, 14.326203, 8.390505, 14.131858,\n",
        "       17.696293, 33.390141, 4.369038, 10.238807, 16.284741, 1318.683096,\n",
        "       44.22755, 0.71096, 64.606759, 3.80061, 4.133884, 18.013409, 4.493312,\n",
        "       11.416987, 10.228744, 5.46812, 0.496374, 9.319622, 13.75568, 80.264543,\n",
        "       6.939688, 0.551201, 4.906585, 76.511887, 5.23846, 61.083916, 1.454867,\n",
        "       1.688359, 82.400996, 22.873338, 10.70629, 12.572928, 9.947814, 1.472041,\n",
        "       8.502814, 7.483763, 6.980412, 9.956108, 0.301931, 1110.396331, 223.547,\n",
        "       69.45357, 27.499638, 4.109086, 6.426679, 58.147733, 2.780132, 127.467972,\n",
        "       6.053193, 35.610177, 23.301725, 49.04479, 2.505559, 3.921278, 2.012649,\n",
        "       3.193942, 6.036914, 19.167654, 13.327079, 24.821286, 12.031795, 3.270065,\n",
        "       1.250882, 108.700891, 2.874127, 0.684736, 33.757175, 19.951656, 47.76198,\n",
        "       2.05508, 28.90179, 16.570613, 4.115771, 5.675356, 12.894865, 135.031164,\n",
        "       4.627926, 3.204897, 169.270617, 3.242173, 6.667147, 28.674757, 91.077287,\n",
        "       38.518241, 10.642836, 3.942491, 0.798094, 22.276056, 8.860588, 0.199579,\n",
        "       27.601038, 12.267493, 10.150265, 6.144562, 4.553009, 5.447502, 2.009245,\n",
        "       9.118773, 43.997828, 40.448191, 20.378239, 42.292929, 1.133066, 9.031088,\n",
        "       7.554661, 19.314747, 23.174294, 38.13964, 65.068149, 5.701579, 1.056608,\n",
        "       10.276158, 71.158647, 29.170398, 60.776238, 301.139947, 3.447496,\n",
        "       26.084662, 85.262356, 4.018332, 22.211743, 11.746035, 12.311143]\n",
        "\n",
        "\n",
        "plt.scatter(pop, life_exp)"
      ],
      "execution_count": 21,
      "outputs": [
        {
          "output_type": "execute_result",
          "data": {
            "text/plain": [
              "<matplotlib.collections.PathCollection at 0x7fdd042779e8>"
            ]
          },
          "metadata": {
            "tags": []
          },
          "execution_count": 21
        },
        {
          "output_type": "display_data",
          "data": {
            "image/png": "[encoded data removed]",
            "text/plain": [
              "<Figure size 576x396 with 1 Axes>"
            ]
          },
          "metadata": {
            "tags": []
          }
        }
      ]
    }
  ]
}